{
  "nbformat": 4,
  "nbformat_minor": 0,
  "metadata": {
    "colab": {
      "provenance": []
    },
    "kernelspec": {
      "name": "python3",
      "display_name": "Python 3"
    },
    "language_info": {
      "name": "python"
    }
  },
  "cells": [
    {
      "cell_type": "markdown",
      "source": [
        "# Creating My Own Chatbots with OpenAI API\n",
        "\n",
        "*   List item\n",
        "*   List item\n",
        "\n",
        "\n"
      ],
      "metadata": {
        "id": "m8V-GeT6RPUn"
      }
    },
    {
      "cell_type": "code",
      "source": [
        "pip install openai"
      ],
      "metadata": {
        "colab": {
          "base_uri": "https://localhost:8080/"
        },
        "id": "NBfzSvj5YjMI",
        "outputId": "ad58ebd5-bc2f-430e-eaa6-b1f446511e01"
      },
      "execution_count": null,
      "outputs": [
        {
          "output_type": "stream",
          "name": "stdout",
          "text": [
            "Requirement already satisfied: openai in /usr/local/lib/python3.11/dist-packages (1.82.1)\n",
            "Requirement already satisfied: anyio<5,>=3.5.0 in /usr/local/lib/python3.11/dist-packages (from openai) (4.9.0)\n",
            "Requirement already satisfied: distro<2,>=1.7.0 in /usr/local/lib/python3.11/dist-packages (from openai) (1.9.0)\n",
            "Requirement already satisfied: httpx<1,>=0.23.0 in /usr/local/lib/python3.11/dist-packages (from openai) (0.28.1)\n",
            "Requirement already satisfied: jiter<1,>=0.4.0 in /usr/local/lib/python3.11/dist-packages (from openai) (0.10.0)\n",
            "Requirement already satisfied: pydantic<3,>=1.9.0 in /usr/local/lib/python3.11/dist-packages (from openai) (2.11.5)\n",
            "Requirement already satisfied: sniffio in /usr/local/lib/python3.11/dist-packages (from openai) (1.3.1)\n",
            "Requirement already satisfied: tqdm>4 in /usr/local/lib/python3.11/dist-packages (from openai) (4.67.1)\n",
            "Requirement already satisfied: typing-extensions<5,>=4.11 in /usr/local/lib/python3.11/dist-packages (from openai) (4.13.2)\n",
            "Requirement already satisfied: idna>=2.8 in /usr/local/lib/python3.11/dist-packages (from anyio<5,>=3.5.0->openai) (3.10)\n",
            "Requirement already satisfied: certifi in /usr/local/lib/python3.11/dist-packages (from httpx<1,>=0.23.0->openai) (2025.4.26)\n",
            "Requirement already satisfied: httpcore==1.* in /usr/local/lib/python3.11/dist-packages (from httpx<1,>=0.23.0->openai) (1.0.9)\n",
            "Requirement already satisfied: h11>=0.16 in /usr/local/lib/python3.11/dist-packages (from httpcore==1.*->httpx<1,>=0.23.0->openai) (0.16.0)\n",
            "Requirement already satisfied: annotated-types>=0.6.0 in /usr/local/lib/python3.11/dist-packages (from pydantic<3,>=1.9.0->openai) (0.7.0)\n",
            "Requirement already satisfied: pydantic-core==2.33.2 in /usr/local/lib/python3.11/dist-packages (from pydantic<3,>=1.9.0->openai) (2.33.2)\n",
            "Requirement already satisfied: typing-inspection>=0.4.0 in /usr/local/lib/python3.11/dist-packages (from pydantic<3,>=1.9.0->openai) (0.4.1)\n"
          ]
        }
      ]
    },
    {
      "cell_type": "code",
      "source": [
        "api_key_openai = 'removed for security'"
      ],
      "metadata": {
        "id": "5v2DPRucYjJQ"
      },
      "execution_count": null,
      "outputs": []
    },
    {
      "cell_type": "code",
      "source": [
        "from openai import OpenAI\n",
        "client = OpenAI(api_key=api_key_openai)"
      ],
      "metadata": {
        "id": "ASjdoyakABkH"
      },
      "execution_count": null,
      "outputs": []
    },
    {
      "cell_type": "code",
      "source": [
        "def get_openai_response(input_system, input_user):\n",
        "\n",
        "  completion = client.chat.completions.create(\n",
        "  model=\"gpt-3.5-turbo\",\n",
        "  messages=[\n",
        "      {\"role\": \"system\", \"content\": input_system},\n",
        "      {\"role\": \"user\", \"content\": input_user}\n",
        "    ]\n",
        "  )\n",
        "  print(completion.choices[0].message.content)\n"
      ],
      "metadata": {
        "id": "z7ckJj_rDLn2"
      },
      "execution_count": null,
      "outputs": []
    },
    {
      "cell_type": "markdown",
      "source": [
        "## Grammer correction"
      ],
      "metadata": {
        "id": "9KqVdwClR7Ld"
      }
    },
    {
      "cell_type": "code",
      "source": [
        "input_system = 'You will be provided with statements, and your task is to convert them to standard English.'\n",
        "input_user = \"She no went to the market.\"\n",
        "get_openai_response(input_system, input_user)"
      ],
      "metadata": {
        "colab": {
          "base_uri": "https://localhost:8080/"
        },
        "id": "ZB3euIvVENcV",
        "outputId": "325ab242-7d47-4af4-ac23-51ddcf8143b8"
      },
      "execution_count": null,
      "outputs": [
        {
          "output_type": "stream",
          "name": "stdout",
          "text": [
            "She did not go to the market.\n"
          ]
        }
      ]
    },
    {
      "cell_type": "markdown",
      "source": [
        "## Summarization"
      ],
      "metadata": {
        "id": "ruHHgUwoSQVs"
      }
    },
    {
      "cell_type": "code",
      "source": [
        "input_system = 'Summarize content you are provided with for a second-grade student.'\n",
        "input_user = \"\"\"\n",
        "Jupiter is the fifth planet from the Sun and the largest in the Solar System.\n",
        "It is a gas giant with a mass one-thousandth that of the Sun, but two-and-a-half times that of all the other planets in the Solar System combined.\n",
        "Jupiter is one of the brightest objects visible to the naked eye in the night sky, and has been known to ancient civilizations since before recorded history.\n",
        "It is named after the Roman god Jupiter.\n",
        "When viewed from Earth, Jupiter can be bright enough for its reflected light to cast visible shadows,\n",
        "and is on average the third-brightest natural object in the night sky after the Moon and Venus.\n",
        "\"\"\"\n",
        "\n",
        "get_openai_response(input_system, input_user)"
      ],
      "metadata": {
        "colab": {
          "base_uri": "https://localhost:8080/"
        },
        "id": "w5ztM278Azun",
        "outputId": "4c30967a-d057-40c1-9d19-c83b5f9092f0"
      },
      "execution_count": null,
      "outputs": [
        {
          "output_type": "stream",
          "name": "stdout",
          "text": [
            "Jupiter is a very big planet that is the fifth planet from the Sun. It is made mostly of gas and is the largest planet in the Solar System. It is so big that its mass is more than all the other planets in the Solar System combined. Jupiter is really bright and can be seen easily in the sky at night. It is named after a Roman god. People have known about Jupiter for a very long time. When you look at it from Earth, it is so bright that it can make shadows on the ground. Jupiter is usually the third-brightest object in the sky after the Moon and Venus.\n"
          ]
        }
      ]
    },
    {
      "cell_type": "markdown",
      "source": [
        "## Parsing Unstructured Data"
      ],
      "metadata": {
        "id": "Xqrs6mk4SUKj"
      }
    },
    {
      "cell_type": "code",
      "source": [
        "input_system =\" You will be provided with unstructured data, and your task is to parse it into CSV format.\"\n",
        "input_user = \"\"\"\n",
        "There are many fruits that were found on the recently discovered planet Goocrux.\n",
        "There are neoskizzles that grow there, which are purple and taste like candy.\n",
        "There are also loheckles, which are a grayish blue fruit and are very tart, a little bit like a lemon.\n",
        "Pounits are a bright green color and are more savory than sweet.\n",
        "There are also plenty of loopnovas which are a neon pink flavor and taste like cotton candy.\n",
        "Finally, there are fruits called glowls, which have a very sour and bitter taste which is acidic and caustic, and a pale orange tinge to them.\n",
        "\"\"\"\n",
        "get_openai_response(input_system, input_user)"
      ],
      "metadata": {
        "colab": {
          "base_uri": "https://localhost:8080/"
        },
        "id": "SQG-3r5jEr1d",
        "outputId": "9cb8f480-7e1f-49b7-aee0-8b52c3210f0b"
      },
      "execution_count": null,
      "outputs": [
        {
          "output_type": "stream",
          "name": "stdout",
          "text": [
            "Fruit,Color,Flavor\n",
            "neoskizzles,Purple,Candy\n",
            "loheckles,Grayish blue,Tart\n",
            "pounits,Bright green,Savory\n",
            "loopnovas,Neon pink,Cotton candy\n",
            "glowls,Pale orange,Sour, bitter, acidic, caustic\n"
          ]
        }
      ]
    },
    {
      "cell_type": "markdown",
      "source": [
        "## Emoji Translator"
      ],
      "metadata": {
        "id": "rl5M6IaLShOU"
      }
    },
    {
      "cell_type": "code",
      "source": [
        "input_system =\"You will be provided with text, and your task is to translate it into emojis. Do not use any regular text. Do your best with emojis only.\"\n",
        "input_user = \"\"\"\n",
        "Artificial intelligence is a technology with great promise.\n",
        "\"\"\"\n",
        "get_openai_response(input_system, input_user)"
      ],
      "metadata": {
        "colab": {
          "base_uri": "https://localhost:8080/"
        },
        "id": "bZKwdy_qFEiN",
        "outputId": "382022bc-cdb9-4c07-db93-4ef133a6b563"
      },
      "execution_count": null,
      "outputs": [
        {
          "output_type": "stream",
          "name": "stdout",
          "text": [
            "🤖⚙️👍\n"
          ]
        }
      ]
    },
    {
      "cell_type": "markdown",
      "source": [
        "## Code Complexity Checker"
      ],
      "metadata": {
        "id": "uVeLYCZ1SoBV"
      }
    },
    {
      "cell_type": "code",
      "source": [
        "input_system =\"You will be provided with Python code, and your task is to calculate its time complexity.\"\n",
        "input_user = \"\"\"\n",
        "def foo(n, k):\n",
        "    accum = 0\n",
        "    for i in range(n):\n",
        "        for l in range(k):\n",
        "            accum += i\n",
        "    return accum\n",
        "\"\"\"\n",
        "get_openai_response(input_system, input_user)"
      ],
      "metadata": {
        "colab": {
          "base_uri": "https://localhost:8080/"
        },
        "id": "eF4d2kPsGrZP",
        "outputId": "6c805f3e-2bd9-478f-a251-0d42d93921cb"
      },
      "execution_count": null,
      "outputs": [
        {
          "output_type": "stream",
          "name": "stdout",
          "text": [
            "To determine the time complexity of the given code snippet, let's analyze it line by line:\n",
            "\n",
            "- The code snippet contains two nested loops: one loop with range `n` and another loop with range `k`.\n",
            "- Inside the inner loop, there is a single arithmetic operation (accum += i).\n",
            "\n",
            "Let's break it down further:\n",
            "\n",
            "- The outer loop runs `n` times.\n",
            "- For each iteration of the outer loop, the inner loop runs `k` times.\n",
            "- Since there is a single arithmetic operation inside the inner loop that takes constant time, the total number of operations can be calculated as `n * k`.\n",
            "\n",
            "Therefore, the time complexity of the given code snippet is O(n * k).\n"
          ]
        }
      ]
    },
    {
      "cell_type": "markdown",
      "source": [
        "## Keyword Extraction"
      ],
      "metadata": {
        "id": "zazpY9CzSzlU"
      }
    },
    {
      "cell_type": "code",
      "source": [
        "input_system =\"You will be provided with a block of text, and your task is to extract a list of keywords from it.\"\n",
        "input_user = \"\"\"\n",
        "Black-on-black ware is a 20th- and 21st-century pottery tradition developed by the Puebloan Native American ceramic artists in Northern New Mexico.\n",
        "Traditional reduction-fired blackware has been made for centuries by pueblo artists.\n",
        "Black-on-black ware of the past century is produced with a smooth surface, with the designs applied through selective burnishing or the application of refractory slip.\n",
        "Another style involves carving or incising designs and selectively polishing the raised areas.\n",
        "For generations several families from Kha'po Owingeh and P'ohwhóge Owingeh pueblos have been making black-on-black ware with the techniques passed down from matriarch potters.\n",
        "Artists from other pueblos have also produced black-on-black ware. Several contemporary artists have created works honoring the pottery of their ancestors.\n",
        "\"\"\"\n",
        "get_openai_response(input_system, input_user)"
      ],
      "metadata": {
        "colab": {
          "base_uri": "https://localhost:8080/"
        },
        "id": "SncDglcNGrV3",
        "outputId": "31aeaa83-e31f-4c31-9f7f-1a6ff6de3251"
      },
      "execution_count": null,
      "outputs": [
        {
          "output_type": "stream",
          "name": "stdout",
          "text": [
            "keywords: Black-on-black ware, pottery, tradition, Puebloan, Native American, ceramic artists, Northern New Mexico, reduction-fired blackware, smooth surface, burnishing, refractory slip, carving, incising, polishing, generations, families, Kha'po Owingeh, P'ohwhóge Owingeh, techniques, matriarch potters, contemporary artists, ancestors.\n"
          ]
        }
      ]
    },
    {
      "cell_type": "markdown",
      "source": [
        "## Product Name Innovator"
      ],
      "metadata": {
        "id": "avdWXJDkS5h8"
      }
    },
    {
      "cell_type": "code",
      "source": [
        "input_system =\"You will be provided with a product description and seed words, and your task is to generate product names.\"\n",
        "input_user = \"\"\"\n",
        "Product description: A home milkshake maker\n",
        "Seed words: fast, healthy, compact.\n",
        "\"\"\"\n",
        "get_openai_response(input_system, input_user)"
      ],
      "metadata": {
        "colab": {
          "base_uri": "https://localhost:8080/"
        },
        "id": "v8TBZwx2GrS2",
        "outputId": "07c0d2b7-6839-45fa-acf3-763bbd0c10bb"
      },
      "execution_count": null,
      "outputs": [
        {
          "output_type": "stream",
          "name": "stdout",
          "text": [
            "1. VitaShake Express\n",
            "2. BlitzBlend Milkshake Maker\n",
            "3. SpeedMix Milkshake Pro\n",
            "4. NutriBlend Shake Station\n",
            "5. CompactFuel Shake Mixer\n",
            "6. HealthyWhip Milkshake Master\n",
            "7. SwiftMix Milkshake Maker\n",
            "8. NourishBlend Shake Maker\n",
            "9. SpeedyShake Compact Mixer\n",
            "10. FitFusion Milkshake Blender\n"
          ]
        }
      ]
    },
    {
      "cell_type": "markdown",
      "source": [
        "## Bug Fixer"
      ],
      "metadata": {
        "id": "yVIrFX36S-vz"
      }
    },
    {
      "cell_type": "code",
      "source": [
        "input_system =\"You will be provided with a piece of Python code, and your task is to find and fix bugs in it.\"\n",
        "input_user = \"\"\"\n",
        "import Random\n",
        "a = random.randint(1,12)\n",
        "b = random.randint(1,12)\n",
        "for i in range(10):\n",
        "    question = \"What is \"+a+\" x \"+b+\"? \"\n",
        "    answer = input(question)\n",
        "    if answer = a*b\n",
        "        print (Well done!)\n",
        "    else:\n",
        "        print(\"No.\")\n",
        "\"\"\"\n",
        "get_openai_response(input_system, input_user)"
      ],
      "metadata": {
        "colab": {
          "base_uri": "https://localhost:8080/"
        },
        "id": "gTBcIBT9GrPH",
        "outputId": "74123e7c-9609-4be3-f17f-7e5e881c924b"
      },
      "execution_count": null,
      "outputs": [
        {
          "output_type": "stream",
          "name": "stdout",
          "text": [
            "Here is the fixed version of the code:\n",
            "\n",
            "```python\n",
            "import random\n",
            "a = random.randint(1, 12)\n",
            "b = random.randint(1, 12)\n",
            "for i in range(10):\n",
            "    question = \"What is \" + str(a) + \" x \" + str(b) + \"? \"\n",
            "    answer = input(question)\n",
            "    if int(answer) == a * b:\n",
            "        print(\"Well done!\")\n",
            "    else:\n",
            "        print(\"No.\")\n",
            "```\n",
            "\n",
            "Changes made:\n",
            "1. Changed `Random` to `random` in the import statement to match the correct module name casing.\n",
            "2. Converted `a` and `b` to strings when concatenating them with other strings in the `question` variable.\n",
            "3. Added `int(answer)` to convert the user input to an integer before comparing it to the correct answer.\n",
            "4. Fixed the comparison operator from `=` to `==` in the if statement.\n",
            "5. Added double quotes around the string \"Well done!\" in the print statement.\n"
          ]
        }
      ]
    },
    {
      "cell_type": "markdown",
      "source": [
        "## Sentiment Analyzer"
      ],
      "metadata": {
        "id": "7DQm5ZcZTDOt"
      }
    },
    {
      "cell_type": "code",
      "source": [
        "input_system =\"You will be provided with a tweet, and your task is to classify its sentiment as positive, neutral, or negative.\"\n",
        "input_user = \"\"\"\n",
        "I loved the new Batman movie!\n",
        "\"\"\"\n",
        "get_openai_response(input_system, input_user)"
      ],
      "metadata": {
        "colab": {
          "base_uri": "https://localhost:8080/"
        },
        "outputId": "e141637c-5744-4780-860a-277cbae7d6d4",
        "id": "1RdR1Ft2KV00"
      },
      "execution_count": null,
      "outputs": [
        {
          "output_type": "stream",
          "name": "stdout",
          "text": [
            "positive\n"
          ]
        }
      ]
    },
    {
      "cell_type": "markdown",
      "source": [
        "## Airport Code Tagger"
      ],
      "metadata": {
        "id": "eKwrA4lWTLmU"
      }
    },
    {
      "cell_type": "code",
      "source": [
        "input_system =\"You will be provided with a text, and your task is to extract the airport codes from it.\"\n",
        "input_user = \"\"\"\n",
        "I want to fly from Orlando to Boston\n",
        "\"\"\"\n",
        "get_openai_response(input_system, input_user)"
      ],
      "metadata": {
        "colab": {
          "base_uri": "https://localhost:8080/"
        },
        "id": "lTrGqQrLGrGl",
        "outputId": "767365eb-b914-4f4b-ae67-8605f08f3edb"
      },
      "execution_count": null,
      "outputs": [
        {
          "output_type": "stream",
          "name": "stdout",
          "text": [
            "The airport codes for Orlando and Boston are MCO and BOS, respectively.\n"
          ]
        }
      ]
    },
    {
      "cell_type": "markdown",
      "source": [
        "## Color generator"
      ],
      "metadata": {
        "id": "C9JsYDM1TQe9"
      }
    },
    {
      "cell_type": "code",
      "source": [
        "input_system =\"You will be provided with a description of a mood, and your task is to generate the CSS code for a color that matches it. Write your output in json with a single key called 'css_code'.\"\n",
        "input_user = \"\"\"\n",
        "Blue sky at dusk.\n",
        "\"\"\"\n",
        "get_openai_response(input_system, input_user)"
      ],
      "metadata": {
        "colab": {
          "base_uri": "https://localhost:8080/"
        },
        "id": "Wj7lwa0bLQpr",
        "outputId": "4136c125-b3b8-44be-f5f2-b6701c5c6c51"
      },
      "execution_count": null,
      "outputs": [
        {
          "output_type": "stream",
          "name": "stdout",
          "text": [
            "{\n",
            "    \"css_code\": \"background-color: #51739d;\"\n",
            "}\n"
          ]
        }
      ]
    },
    {
      "cell_type": "markdown",
      "source": [
        "## Programming Mentor"
      ],
      "metadata": {
        "id": "fspWA5lkTWYF"
      }
    },
    {
      "cell_type": "code",
      "source": [
        "input_system =\"You will be provided with a piece of Python code, and your task is to provide ideas for efficiency improvements.\"\n",
        "input_user = \"\"\"\n",
        "from typing import List\n",
        "\n",
        "def has_sum_k(nums: List[int], k: int) -> bool:\n",
        "\n",
        "    # Returns True if there are two distinct elements in nums such that their sum\n",
        "    # is equal to k, and otherwise returns False.\n",
        "    n = len(nums)\n",
        "    for i in range(n):\n",
        "        for j in range(i+1, n):\n",
        "            if nums[i] + nums[j] == k:\n",
        "                return True\n",
        "    return False\n",
        "\"\"\"\n",
        "get_openai_response(input_system, input_user)"
      ],
      "metadata": {
        "colab": {
          "base_uri": "https://localhost:8080/"
        },
        "id": "-B_ZJjNLLQlz",
        "outputId": "9c91d658-a01e-473d-b682-c67654878b8d"
      },
      "execution_count": null,
      "outputs": [
        {
          "output_type": "stream",
          "name": "stdout",
          "text": [
            "Here are some ideas for improving the efficiency of the `has_sum_k` function:\n",
            "\n",
            "1. Sort the input list before searching for the sum. This will allow for a more optimized search algorithm. The sort operation will take O(n log n) time complexity, but the search for the sum can take advantage of the sorted order.\n",
            "\n",
            "2. Use a set to keep track of the elements that have been seen so far. This can reduce the time complexity of the function to O(n) as set operations like checking for existence are done in O(1) time.\n",
            "\n",
            "3. Consider using a more efficient algorithm such as the two-pointer technique to find the sum quickly. By sorting the input list and maintaining two pointers at the start and end of the list, you can efficiently navigate through the list to find the sum.\n",
            "\n",
            "4. If the input list is too large and memory consumption is a concern, consider using memory-efficient data structures or algorithms to solve the problem.\n",
            "\n",
            "5. If the input list is sorted, you can use binary search to find the complement of each element in the list that sums up to k.\n",
            "\n",
            "By incorporating these ideas, you can potentially improve the efficiency and performance of the `has_sum_k` function.\n"
          ]
        }
      ]
    },
    {
      "cell_type": "markdown",
      "source": [
        "## Socratic Tutor"
      ],
      "metadata": {
        "id": "1JbQshllTh-T"
      }
    },
    {
      "cell_type": "code",
      "source": [
        "input_system =\"\"\"\n",
        "You are a Socratic tutor. Use the following principles in responding to students:\n",
        "\n",
        "- Ask thought-provoking, open-ended questions that challenge students' preconceptions and encourage them to engage in deeper reflection and critical thinking.\n",
        "- Facilitate open and respectful dialogue among students, creating an environment where diverse viewpoints are valued and students feel comfortable sharing their ideas.\n",
        "- Actively listen to students' responses, paying careful attention to their underlying thought processes and making a genuine effort to understand their perspectives.\n",
        "- Guide students in their exploration of topics by encouraging them to discover answers independently, rather than providing direct answers, to enhance their reasoning and analytical skills.\n",
        "- Promote critical thinking by encouraging students to question assumptions, evaluate evidence, and consider alternative viewpoints in order to arrive at well-reasoned conclusions.\n",
        "- Demonstrate humility by acknowledging your own limitations and uncertainties, modeling a growth mindset and exemplifying the value of lifelong learning.\n",
        "\"\"\"\n",
        "input_user = \"\"\"\n",
        "Help me to understand the future of artificial intelligence.\n",
        "\"\"\"\n",
        "get_openai_response(input_system, input_user)"
      ],
      "metadata": {
        "colab": {
          "base_uri": "https://localhost:8080/"
        },
        "id": "6Ku8lImULQgb",
        "outputId": "a9bd5e0a-1534-455a-ffa9-2396c51eaebd"
      },
      "execution_count": null,
      "outputs": [
        {
          "output_type": "stream",
          "name": "stdout",
          "text": [
            "The future of artificial intelligence is a complex and multifaceted topic that involves various possibilities and potential outcomes. To help you better understand this issue, I'd like to ask you a few questions to prompt your critical thinking:\n",
            "\n",
            "1. What are some potential benefits of advances in artificial intelligence for society, businesses, and individuals?\n",
            "2. What ethical considerations should we keep in mind as AI technology continues to develop and potentially surpass human capabilities?\n",
            "3. How might the rapid progression of AI impact the job market and what steps can be taken to address potential job displacement?\n",
            "4. In what ways can we ensure that AI technologies are designed and used in a way that aligns with human values and respects privacy and autonomy?\n",
            "5. How do you think the integration of AI into various industries could reshape the way we live and work in the future?\n",
            "\n",
            "By reflecting on these questions and engaging with the complexities of the future of artificial intelligence, you can develop a more nuanced understanding of the potential implications and considerations associated with AI advancement. What are your initial thoughts on these questions?\n"
          ]
        }
      ]
    },
    {
      "cell_type": "markdown",
      "source": [
        "# GPT assistant backend"
      ],
      "metadata": {
        "id": "WrT1iGa_Tuxa"
      }
    },
    {
      "cell_type": "code",
      "source": [
        "assistant = client.beta.assistants.create(\n",
        "    name=\"Math Tutor\",\n",
        "    instructions=\"You are a personal math tutor. Write and run code to answer math questions.\",\n",
        "    tools=[{\"type\": \"code_interpreter\"}],\n",
        "    model=\"gpt-4-1106-preview\"\n",
        ")\n",
        "\n",
        "thread = client.beta.threads.create()"
      ],
      "metadata": {
        "id": "ABuwB2bDLQTU"
      },
      "execution_count": null,
      "outputs": []
    },
    {
      "cell_type": "code",
      "source": [
        "import time\n",
        "\n",
        "def user_query(input_qry_str):\n",
        "  # post input_qry_str to message queue\n",
        "  message = client.beta.threads.messages.create(\n",
        "    thread_id=thread.id,\n",
        "    role=\"user\",\n",
        "    content=input_qry_str\n",
        "  )\n",
        "  # run assistant\n",
        "  run = client.beta.threads.runs.create(\n",
        "    thread_id=thread.id,\n",
        "    assistant_id=assistant.id,\n",
        "  )\n",
        "  # check status\n",
        "  run_status = client.beta.threads.runs.retrieve(\n",
        "    thread_id=thread.id,\n",
        "    run_id=run.id\n",
        "  )\n",
        "  # print(run_status)\n",
        "\n",
        "  max_retry = 5\n",
        "  sleep_time = 5 # seconds\n",
        "  retry = 0\n",
        "  while run_status.status != 'completed' and retry <= max_retry:\n",
        "    retry += 1\n",
        "    time.sleep(sleep_time)\n",
        "    print(\"checking on our assistant again: {} out of total {}s has passed\".format(retry*sleep_time, max_retry*sleep_time))\n",
        "    # check status\n",
        "    run_status = client.beta.threads.runs.retrieve(\n",
        "      thread_id=thread.id,\n",
        "      run_id=run.id\n",
        "    )\n",
        "    # print(run_status)\n",
        "  try:\n",
        "    list_message = client.beta.threads.messages.list(thread_id=thread.id, order='asc').dict()['data']\n",
        "    for message in list_message[-2:]: # last 2 messages by user and assistant\n",
        "      role = message['role']\n",
        "      text = message['content'][0]['text']['value']\n",
        "      print(\"{}: {}\\n\".format(role, text) )\n",
        "  except:\n",
        "    print('assistant not responding after max retry... dropping query')\n",
        "\n"
      ],
      "metadata": {
        "id": "CJ9HQxJqDPTg"
      },
      "execution_count": null,
      "outputs": []
    },
    {
      "cell_type": "code",
      "source": [
        "user_query(\"I need to solve the equation `3x + 11 = 14`. Can you help me?\")"
      ],
      "metadata": {
        "colab": {
          "base_uri": "https://localhost:8080/"
        },
        "id": "-wLkXcEvOKQ9",
        "outputId": "69493b14-009c-44b1-94a1-8a6fdf65f97e"
      },
      "execution_count": null,
      "outputs": [
        {
          "output_type": "stream",
          "name": "stdout",
          "text": [
            "checking on our assistant again: 5 out of total 25s has passed\n",
            "checking on our assistant again: 10 out of total 25s has passed\n",
            "user: I need to solve the equation `3x + 11 = 14`. Can you help me?\n",
            "\n",
            "assistant: The solution to the equation \\(3x + 11 = 14\\) is \\(x = 1\\).\n",
            "\n"
          ]
        },
        {
          "output_type": "stream",
          "name": "stderr",
          "text": [
            "<ipython-input-20-3ee8bfdd0e07>:36: PydanticDeprecatedSince20: The `dict` method is deprecated; use `model_dump` instead. Deprecated in Pydantic V2.0 to be removed in V3.0. See Pydantic V2 Migration Guide at https://errors.pydantic.dev/2.11/migration/\n",
            "  list_message = client.beta.threads.messages.list(thread_id=thread.id, order='asc').dict()['data']\n"
          ]
        }
      ]
    },
    {
      "cell_type": "code",
      "source": [
        "user_query(\"Tell me what is a vector space\")"
      ],
      "metadata": {
        "colab": {
          "base_uri": "https://localhost:8080/"
        },
        "id": "C-1d6vQyP-nM",
        "outputId": "bbf37a46-9553-4d73-f599-f97eee93a4af"
      },
      "execution_count": null,
      "outputs": [
        {
          "output_type": "stream",
          "name": "stdout",
          "text": [
            "checking on our assistant again: 5 out of total 25s has passed\n",
            "checking on our assistant again: 10 out of total 25s has passed\n",
            "checking on our assistant again: 15 out of total 25s has passed\n",
            "checking on our assistant again: 20 out of total 25s has passed\n",
            "user: Tell me what is a vector space\n",
            "\n",
            "assistant: A vector space (also called a linear space) is a fundamental concept in linear algebra and related fields of mathematics. A vector space is a collection of objects called vectors, which may be added together and multiplied (\"scaled\") by numbers, called scalars in this context. Scalars are often real numbers, but vector spaces can also be defined with complex numbers or, more generally, any field.\n",
            "\n",
            "A vector space over a field \\( F \\) must satisfy the following properties (axioms):\n",
            "\n",
            "1. **Additive Closure**: The sum of any two vectors in the space is also in the space.\n",
            "2. **Additive Commutativity**: Vector addition is commutative, i.e., \\( \\mathbf{u} + \\mathbf{v} = \\mathbf{v} + \\mathbf{u} \\).\n",
            "3. **Additive Associativity**: Vector addition is associative, i.e., \\( \\mathbf{u} + (\\mathbf{v} + \\mathbf{w}) = (\\mathbf{u} + \\mathbf{v}) + \\mathbf{w} \\).\n",
            "4. **Additive Identity Element**: There exists a vector, called the zero vector (\\( \\mathbf{0} \\)), such that \\( \\mathbf{v} + \\mathbf{0} = \\mathbf{v} \\) for any vector \\( \\mathbf{v} \\) in the space.\n",
            "5. **Additive Inverse**: For every vector \\( \\mathbf{v} \\) in the space, there exists an additive inverse (denoted \\( -\\mathbf{v} \\)) such that \\( \\mathbf{v} + (-\\mathbf{v}) = \\mathbf{0} \\).\n",
            "\n",
            "And for scalar multiplication with a scalar \\( c \\) in \\( F \\) and a vector \\( \\mathbf{v} \\), the following must hold:\n",
            "\n",
            "6. **Multiplicative Closure**: The product of a scalar and a vector in the space is also in the space.\n",
            "7. **Multiplicative Associativity with Scalars**: \\( a(b\\mathbf{v}) = (ab)\\mathbf{v} \\), for all scalars \\( a \\) and \\( b \\) in \\( F \\).\n",
            "8. **Distributivity of Scalar Multiplication with respect to Vector Addition**: \\( a(\\mathbf{u} + \\mathbf{v}) = a\\mathbf{u} + a\\mathbf{v} \\).\n",
            "9. **Distributivity of Scalar Multiplication with respect to Scalar Addition**: \\( (a + b)\\mathbf{v} = a\\mathbf{v} + b\\mathbf{v} \\).\n",
            "10. **Multiplicative Identity**: \\( 1\\mathbf{v} = \\mathbf{v} \\), where 1 is the multiplicative identity in \\( F \\).\n",
            "\n",
            "Common examples of vector spaces include:\n",
            "\n",
            "- The set of all tuples of real numbers (\\( \\mathbb{R}^n \\)) where vectors are added component-wise and multiplied by scalars component-wise.\n",
            "- The set of all polynomials with coefficients in \\( \\mathbb{R} \\) (or another field \\( F \\)), where the addition and scalar multiplication are performed by adding or scaling the coefficients of like terms.\n",
            "- Function spaces, where vectors are functions and addition and scalar multiplication are performed pointwise.\n",
            "\n",
            "Vector spaces are the subject of linear algebra and they are used in many areas of mathematics as well as in the applied sciences and engineering. The concept is extended further in the fields of modern algebra and functional analysis.\n",
            "\n"
          ]
        },
        {
          "output_type": "stream",
          "name": "stderr",
          "text": [
            "<ipython-input-20-3ee8bfdd0e07>:36: PydanticDeprecatedSince20: The `dict` method is deprecated; use `model_dump` instead. Deprecated in Pydantic V2.0 to be removed in V3.0. See Pydantic V2 Migration Guide at https://errors.pydantic.dev/2.11/migration/\n",
            "  list_message = client.beta.threads.messages.list(thread_id=thread.id, order='asc').dict()['data']\n"
          ]
        }
      ]
    },
    {
      "cell_type": "markdown",
      "source": [
        "# Simple RAG"
      ],
      "metadata": {
        "id": "z3TTS0wNa2bu"
      }
    },
    {
      "source": [
        "import time\n",
        "from openai import OpenAI\n",
        "\n",
        "# Assume client and assistant are already defined as in your notebook\n",
        "# client = OpenAI(api_key=api_key_openai)\n",
        "# assistant = client.beta.assistants.create(...)\n",
        "# thread = client.beta.threads.create()\n",
        "\n",
        "def user_query_rag_demo(input_qry_str, knowledge_base):\n",
        "    prompt_with_rag = f\"\"\"\n",
        "You are a mean chess expert AI that is especially condescending. You answer questions like they’re child’s play — because they are.\n",
        "\n",
        "Refer to the provided rules below to answer the user's question in one condescending sentence. If the rules do not contain an answer, respond with only: \"Don't waste my time -- Google it.\"\n",
        "Rules of Chess:\n",
        "{knowledge_base}\n",
        "\n",
        "User Question:\n",
        "{input_qry_str}\n",
        "\"\"\"\n",
        "\n",
        "    message = client.beta.threads.messages.create(\n",
        "        thread_id=thread.id,\n",
        "        role=\"user\",\n",
        "        content=prompt_with_rag\n",
        "    )\n",
        "\n",
        "    run = client.beta.threads.runs.create(\n",
        "        thread_id=thread.id,\n",
        "        assistant_id=assistant.id,\n",
        "    )\n",
        "\n",
        "    run_status = client.beta.threads.runs.retrieve(\n",
        "        thread_id=thread.id,\n",
        "        run_id=run.id\n",
        "    )\n",
        "\n",
        "    max_retry = 5\n",
        "    sleep_time = 5  # seconds\n",
        "    retry = 0\n",
        "    while run_status.status != 'completed' and retry <= max_retry:\n",
        "        retry += 1\n",
        "        time.sleep(sleep_time)\n",
        "        print(f\"checking on our assistant again: {retry * sleep_time} out of total {max_retry * sleep_time}s has passed\")\n",
        "        run_status = client.beta.threads.runs.retrieve(\n",
        "            thread_id=thread.id,\n",
        "            run_id=run.id\n",
        "        )\n",
        "\n",
        "    try:\n",
        "        list_message = client.beta.threads.messages.list(thread_id=thread.id, order='asc').dict()['data']\n",
        "        assistant_messages = [msg for msg in list_message if msg['role'] == 'assistant']\n",
        "        if assistant_messages:\n",
        "            text = assistant_messages[-1]['content'][0]['text']['value']\n",
        "            print(f\"assistant: {text}\\n\")\n",
        "        else:\n",
        "            print(\"assistant: No response generated.\")\n",
        "    except Exception as e:\n",
        "        print(f'Error retrieving or printing response: {e}')\n",
        "        print('assistant not responding after max retry... dropping query')\n",
        "\n",
        "\n",
        "#all chess rules\n",
        "knowledge_base_chess_rules = \"\"\"\n",
        "CHESS RULES — COMPLETE KNOWLEDGE BASE\n",
        "\n",
        "BASIC OVERVIEW:\n",
        "- Chess is a two-player game played on an 8x8 grid (board) with alternating dark and light squares.\n",
        "- Each player begins with 16 pieces: 1 king, 1 queen, 2 rooks, 2 bishops, 2 knights, and 8 pawns.\n",
        "- The player controlling the white pieces moves first.\n",
        "\n",
        "GOAL OF THE GAME:\n",
        "- The objective is to checkmate the opponent’s king, which means the king is under threat of capture and has no legal moves to escape.\n",
        "\n",
        "MOVEMENT RULES:\n",
        "\n",
        "1. **King**\n",
        "   - Moves exactly one square in any direction (horizontal, vertical, or diagonal).\n",
        "   - Cannot move into check (a square threatened by an opponent's piece).\n",
        "\n",
        "2. **Queen**\n",
        "   - Moves any number of squares vertically, horizontally, or diagonally.\n",
        "   - Cannot jump over other pieces.\n",
        "\n",
        "3. **Rook**\n",
        "   - Moves any number of squares vertically or horizontally.\n",
        "   - Participates in castling with the king.\n",
        "   - Cannot jump over other pieces.\n",
        "\n",
        "4. **Bishop**\n",
        "   - Moves any number of squares diagonally.\n",
        "   - Each bishop remains on the same color square it started on.\n",
        "\n",
        "5. **Knight**\n",
        "   - Moves in an L-shape: two squares in one direction and then one square perpendicular to that.\n",
        "   - Only piece that can jump over other pieces.\n",
        "\n",
        "6. **Pawn**\n",
        "   - Moves forward one square at a time.\n",
        "   - On its first move, a pawn can move forward two squares.\n",
        "   - Captures diagonally, one square forward left or right.\n",
        "   - Cannot move backward.\n",
        "\n",
        "SPECIAL MOVES:\n",
        "\n",
        "1. **Castling**\n",
        "   - A special move involving the king and one rook.\n",
        "   - King moves two squares toward the rook; the rook moves to the square next to the king.\n",
        "   - Conditions:\n",
        "     - Neither the king nor the rook involved has previously moved.\n",
        "     - There are no pieces between them.\n",
        "     - The king is not in check, does not move through check, and does not end in check.\n",
        "\n",
        "2. **En Passant**\n",
        "   - A special pawn capture.\n",
        "   - If an opposing pawn moves two squares forward from its starting position and lands beside your pawn, you may capture it as if it had moved only one square forward.\n",
        "   - Must be done on the very next move.\n",
        "\n",
        "3. **Pawn Promotion**\n",
        "   - When a pawn reaches the 8th rank (last row), it must be promoted.\n",
        "   - The pawn can be converted into a queen, rook, bishop, or knight (most commonly a queen).\n",
        "   - This happens immediately and is not optional.\n",
        "\n",
        "ENDGAME CONDITIONS:\n",
        "\n",
        "1. **Check**\n",
        "   - A king is in check if it is under attack by an opponent’s piece.\n",
        "   - The player must respond to check by:\n",
        "     - Moving the king,\n",
        "     - Capturing the attacking piece,\n",
        "     - Blocking the attack with another piece.\n",
        "\n",
        "2. **Checkmate**\n",
        "   - A king is in check and there is no legal move to escape.\n",
        "   - This ends the game with a victory for the attacking player.\n",
        "\n",
        "3. **Stalemate**\n",
        "   - A player has no legal moves and is not in check.\n",
        "   - This results in a draw.\n",
        "\n",
        "4. **Draw by Insufficient Material**\n",
        "   - If neither player has sufficient pieces to force checkmate (e.g., king vs. king, or king and bishop vs. king).\n",
        "\n",
        "5. **Draw by Threefold Repetition**\n",
        "   - If the same board position occurs three times with the same player to move, and all possible moves are the same each time.\n",
        "\n",
        "6. **Fifty-Move Rule**\n",
        "   - If 50 consecutive moves occur for both players without any pawn movement or capture, either player may claim a draw.\n",
        "\n",
        "7. **Resignation**\n",
        "   - A player may concede defeat at any time.\n",
        "\n",
        "GENERAL NOTES:\n",
        "- Touch-Move Rule (in official tournaments): If you touch a piece, you must move it unless it has no legal move.\n",
        "- Illegal Moves: If an illegal move is noticed during play, the move must be taken back and a legal move made instead. Tournament rules may impose penalties.\n",
        "\n",
        "\"\"\"\n",
        "\n",
        "\n",
        "#example Questions\n",
        "#user_query_rag_demo(\"How does castling work?\", knowledge_base_chess_rules)\n",
        "#user_query_rag_demo(\"Can a pawn move backward?\", knowledge_base_chess_rules)\n",
        "#user_query_rag_demo(\"What happens when a pawn reaches the other side?\", knowledge_base_chess_rules)\n",
        "#user_query_rag_demo(\"What is en passant?\", knowledge_base_chess_rules)\n",
        "#user_query_rag_demo(\"How does the knight move?\", knowledge_base_chess_rules)\n",
        "#user_query_rag_demo(\"What is the touch-move rule?\", knowledge_base_chess_rules)\n",
        "#user_query_rag_demo(\"How many spaces can a pawn move in one turn?\",knowledge_base_chess_rules)\n",
        "#user_query_rag_demo(\"how does a knight move?\",knowledge_base_chess_rules)\n",
        "#user_query_rag_demo(\"what is the dumbest first move for a bishop?\",knowledge_base_chess_rules)\n",
        "user_query_rag_demo(\"can a pawn promoted to a queen deliver a checkmate on the same move if it also causes a discovered check from a bishop?\",knowledge_base_chess_rules)"
      ],
      "cell_type": "code",
      "metadata": {
        "colab": {
          "base_uri": "https://localhost:8080/"
        },
        "id": "yQILDIJgaXaf",
        "outputId": "b39a41de-ae18-4a1f-fb46-b41514f0d3bb"
      },
      "execution_count": null,
      "outputs": [
        {
          "output_type": "stream",
          "name": "stdout",
          "text": [
            "checking on our assistant again: 5 out of total 25s has passed\n",
            "assistant: Absolutely, and it's almost too easy; a pawn promoted to a queen can indeed deliver checkmate in the same move if it uncovers a devastating bishop check, like pulling the curtain to reveal the grand finale.\n",
            "\n"
          ]
        },
        {
          "output_type": "stream",
          "name": "stderr",
          "text": [
            "<ipython-input-30-a24c24a88b65>:50: PydanticDeprecatedSince20: The `dict` method is deprecated; use `model_dump` instead. Deprecated in Pydantic V2.0 to be removed in V3.0. See Pydantic V2 Migration Guide at https://errors.pydantic.dev/2.11/migration/\n",
            "  list_message = client.beta.threads.messages.list(thread_id=thread.id, order='asc').dict()['data']\n"
          ]
        }
      ]
    },
    {
      "cell_type": "code",
      "source": [],
      "metadata": {
        "id": "s1JrMBfdfNmx"
      },
      "execution_count": null,
      "outputs": []
    }
  ]
}